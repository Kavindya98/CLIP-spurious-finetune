{
 "cells": [
  {
   "cell_type": "code",
   "execution_count": 1,
   "metadata": {},
   "outputs": [],
   "source": [
    "from wilds.common.data_loaders import get_eval_loader, get_train_loader\n",
    "from wilds.common.grouper import CombinatorialGrouper\n",
    "from models.initializer import get_dataset\n",
    "import torchvision.transforms as transforms"
   ]
  },
  {
   "cell_type": "code",
   "execution_count": 2,
   "metadata": {},
   "outputs": [],
   "source": [
    "model_transforms = transforms.Compose([\n",
    "            transforms.Resize(224),\n",
    "            transforms.CenterCrop(224),\n",
    "            transforms.Lambda(lambda image: image.convert('RGB')),\n",
    "            transforms.ToTensor(),\n",
    "            transforms.Normalize(mean=[0.485, 0.456, 0.406],\n",
    "                                 std=[0.229, 0.224, 0.225])\n",
    "        ])\n",
    "\n",
    "full_dataset = get_dataset(dataset='waterbirds',\n",
    "                           root_dir='/media/SSD2/Dataset',\n",
    "                           download=True,\n",
    "                           split_scheme='official',\n",
    "                           seed=11111111)\n",
    "\n",
    "train_grouper = CombinatorialGrouper(\n",
    "        dataset=full_dataset,\n",
    "        groupby_fields=['generic-spurious', 'y']\n",
    "    )\n",
    "\n",
    "data = full_dataset.get_subset('train',frac=1.0,transform=model_transforms)\n",
    "# loader = get_train_loader(loader='standard', \n",
    "#                           dataset=data, \n",
    "#                           batch_size=10,\n",
    "#                           uniform_over_groups=True, \n",
    "#                           grouper=train_grouper,\n",
    "#                           n_groups_per_batch=4)\n",
    "\n",
    "# print(len(data[0]))\n",
    "                        \n",
    "# for batch in loader:\n",
    "#     print(batch[0].shape)\n",
    "#     print(batch[1]) \n",
    "#     print(batch[2])\n",
    "#     print() \n",
    "#     break                  "
   ]
  },
  {
   "cell_type": "code",
   "execution_count": 4,
   "metadata": {},
   "outputs": [
    {
     "name": "stdout",
     "output_type": "stream",
     "text": [
      "tensor([0.0003, 0.0054, 0.0179, 0.0009])\n",
      "tensor([3498.,  184.,   56., 1057.])\n"
     ]
    },
    {
     "data": {
      "text/plain": [
       "(None, None)"
      ]
     },
     "execution_count": 4,
     "metadata": {},
     "output_type": "execute_result"
    }
   ],
   "source": [
    "groups, group_counts = train_grouper.metadata_to_group(\n",
    "                data.metadata_array,\n",
    "                return_counts=True)\n",
    "group_weights = 1 / group_counts\n",
    "print(group_weights), print(group_counts)"
   ]
  },
  {
   "cell_type": "code",
   "execution_count": 9,
   "metadata": {},
   "outputs": [
    {
     "name": "stdout",
     "output_type": "stream",
     "text": [
      "tensor([0.0007, 0.0007, 0.0009, 0.0009])\n"
     ]
    }
   ],
   "source": [
    "full_dataset = get_dataset(dataset='waterbirds_robust',\n",
    "                           root_dir='/media/SSD2/Dataset',\n",
    "                           download=True,\n",
    "                           split_scheme='official',\n",
    "                           seed=11111111)\n",
    "\n",
    "train_grouper = CombinatorialGrouper(\n",
    "        dataset=full_dataset,\n",
    "        groupby_fields=['generic-spurious', 'y']\n",
    "    )\n",
    "\n",
    "data = full_dataset.get_subset('train',frac=1.0,transform=model_transforms)\n",
    "\n",
    "groups, group_counts = train_grouper.metadata_to_group(\n",
    "                data.metadata_array,\n",
    "                return_counts=True)\n",
    "group_weights = 1 / group_counts\n",
    "print(group_weights)"
   ]
  },
  {
   "cell_type": "code",
   "execution_count": 9,
   "metadata": {},
   "outputs": [
    {
     "data": {
      "text/plain": [
       "tensor([[1, 1, 0],\n",
       "        [1, 1, 1],\n",
       "        [0, 1, 0],\n",
       "        ...,\n",
       "        [0, 0, 0],\n",
       "        [0, 0, 1],\n",
       "        [1, 0, 0]])"
      ]
     },
     "execution_count": 9,
     "metadata": {},
     "output_type": "execute_result"
    }
   ],
   "source": [
    "full_dataset.metadata_array"
   ]
  },
  {
   "cell_type": "code",
   "execution_count": 8,
   "metadata": {},
   "outputs": [
    {
     "name": "stdout",
     "output_type": "stream",
     "text": [
      "3\n",
      "torch.Size([10, 3, 224, 224])\n",
      "tensor([0, 0, 0, 0, 0, 0, 0, 0, 0, 0])\n",
      "tensor([[1, 0, 1],\n",
      "        [0, 0, 1],\n",
      "        [0, 0, 1],\n",
      "        [0, 0, 1],\n",
      "        [0, 0, 1],\n",
      "        [0, 0, 1],\n",
      "        [0, 0, 1],\n",
      "        [0, 0, 1],\n",
      "        [0, 0, 1],\n",
      "        [0, 0, 1]])\n"
     ]
    }
   ],
   "source": [
    "loader = get_train_loader(loader='standard', \n",
    "                          dataset=data, \n",
    "                          batch_size=10,\n",
    "                          uniform_over_groups=False, \n",
    "                          grouper=train_grouper,\n",
    "                          n_groups_per_batch=4)\n",
    "\n",
    "print(len(data[0]))\n",
    "                        \n",
    "for batch in loader:\n",
    "    print(batch[0].shape)\n",
    "    print(batch[1]) \n",
    "    print(batch[2])\n",
    "    break      "
   ]
  },
  {
   "cell_type": "code",
   "execution_count": 14,
   "metadata": {},
   "outputs": [
    {
     "name": "stdout",
     "output_type": "stream",
     "text": [
      "tensor([3, 3, 3,  ..., 0, 0, 1])\n",
      "4\n"
     ]
    }
   ],
   "source": [
    "groups, group_counts = train_grouper.metadata_to_group(\n",
    "                data.metadata_array,\n",
    "                return_counts=True)\n",
    "print(groups[:-10])\n",
    "print(len(group_counts))"
   ]
  },
  {
   "cell_type": "code",
   "execution_count": 16,
   "metadata": {},
   "outputs": [
    {
     "data": {
      "text/plain": [
       "tensor([0.0009, 0.0009, 0.0009,  ..., 0.0003, 0.0003, 0.0003])"
      ]
     },
     "execution_count": 16,
     "metadata": {},
     "output_type": "execute_result"
    }
   ],
   "source": [
    "group_weights = 1 / group_counts\n",
    "weights = group_weights[groups]\n",
    "weights"
   ]
  },
  {
   "cell_type": "code",
   "execution_count": 17,
   "metadata": {},
   "outputs": [
    {
     "data": {
      "text/plain": [
       "(4795, 4795)"
      ]
     },
     "execution_count": 17,
     "metadata": {},
     "output_type": "execute_result"
    }
   ],
   "source": [
    "len(groups),len(weights)"
   ]
  },
  {
   "cell_type": "code",
   "execution_count": 1,
   "metadata": {},
   "outputs": [],
   "source": [
    "import cv2\n",
    "import numpy as np\n",
    "import os\n",
    "from glob import glob\n",
    "import random\n"
   ]
  },
  {
   "cell_type": "code",
   "execution_count": 3,
   "metadata": {},
   "outputs": [
    {
     "data": {
      "text/plain": [
       "(['/media/SSD2/Dataset/Places365/ocean/Places365_val_00017396.jpg',\n",
       "  '/media/SSD2/Dataset/Places365/lake-natural/Places365_val_00019078.jpg',\n",
       "  '/media/SSD2/Dataset/Places365/ocean/Places365_val_00006739.jpg',\n",
       "  '/media/SSD2/Dataset/Places365/ocean/Places365_val_00005456.jpg',\n",
       "  '/media/SSD2/Dataset/Places365/ocean/Places365_val_00030862.jpg'],\n",
       " ['/media/SSD2/Dataset/Places365/forest-broadleaf/Places365_val_00027587.jpg',\n",
       "  '/media/SSD2/Dataset/Places365/forest-broadleaf/Places365_val_00013329.jpg',\n",
       "  '/media/SSD2/Dataset/Places365/bamboo_forest/Places365_val_00007602.jpg',\n",
       "  '/media/SSD2/Dataset/Places365/forest-broadleaf/Places365_val_00000009.jpg',\n",
       "  '/media/SSD2/Dataset/Places365/forest-broadleaf/Places365_val_00008121.jpg'])"
      ]
     },
     "execution_count": 3,
     "metadata": {},
     "output_type": "execute_result"
    }
   ],
   "source": [
    "background_path = '/media/SSD2/Dataset/Places365'\n",
    "land_backgrounds_cls = [\"forest-broadleaf\",\"bamboo_forest\"]#[\"botanical_garden\",\"desert-vegetation\",\"topiary_garden\"]\n",
    "water_backgrounds_cls = [\"ocean\",\"lake-natural\"]#[\"beach\",\"canal_natural\",\"river\"]\n",
    "water_backgrounds, land_backgrounds = [],[]\n",
    "for i in range(2):\n",
    "    water_backgrounds.extend(glob(os.path.join(background_path,water_backgrounds_cls[i],'*.jpg')))\n",
    "    land_backgrounds.extend(glob(os.path.join(background_path,land_backgrounds_cls[i],'*.jpg')))\n",
    "random.shuffle(water_backgrounds)\n",
    "random.shuffle(land_backgrounds)\n",
    "water_backgrounds[:5],land_backgrounds[:5]"
   ]
  },
  {
   "cell_type": "code",
   "execution_count": 4,
   "metadata": {},
   "outputs": [
    {
     "data": {
      "text/html": [
       "<div>\n",
       "<style scoped>\n",
       "    .dataframe tbody tr th:only-of-type {\n",
       "        vertical-align: middle;\n",
       "    }\n",
       "\n",
       "    .dataframe tbody tr th {\n",
       "        vertical-align: top;\n",
       "    }\n",
       "\n",
       "    .dataframe thead th {\n",
       "        text-align: right;\n",
       "    }\n",
       "</style>\n",
       "<table border=\"1\" class=\"dataframe\">\n",
       "  <thead>\n",
       "    <tr style=\"text-align: right;\">\n",
       "      <th></th>\n",
       "      <th>img_id</th>\n",
       "      <th>img_filename</th>\n",
       "      <th>y</th>\n",
       "      <th>split</th>\n",
       "      <th>place</th>\n",
       "      <th>place_filename</th>\n",
       "    </tr>\n",
       "  </thead>\n",
       "  <tbody>\n",
       "    <tr>\n",
       "      <th>0</th>\n",
       "      <td>1</td>\n",
       "      <td>001.Black_footed_Albatross/Black_Footed_Albatr...</td>\n",
       "      <td>1</td>\n",
       "      <td>2</td>\n",
       "      <td>1</td>\n",
       "      <td>/o/ocean/00002178.jpg</td>\n",
       "    </tr>\n",
       "    <tr>\n",
       "      <th>1</th>\n",
       "      <td>2</td>\n",
       "      <td>001.Black_footed_Albatross/Black_Footed_Albatr...</td>\n",
       "      <td>1</td>\n",
       "      <td>0</td>\n",
       "      <td>1</td>\n",
       "      <td>/l/lake/natural/00000065.jpg</td>\n",
       "    </tr>\n",
       "    <tr>\n",
       "      <th>2</th>\n",
       "      <td>3</td>\n",
       "      <td>001.Black_footed_Albatross/Black_Footed_Albatr...</td>\n",
       "      <td>1</td>\n",
       "      <td>2</td>\n",
       "      <td>0</td>\n",
       "      <td>/b/bamboo_forest/00000131.jpg</td>\n",
       "    </tr>\n",
       "    <tr>\n",
       "      <th>3</th>\n",
       "      <td>4</td>\n",
       "      <td>001.Black_footed_Albatross/Black_Footed_Albatr...</td>\n",
       "      <td>1</td>\n",
       "      <td>0</td>\n",
       "      <td>1</td>\n",
       "      <td>/o/ocean/00001268.jpg</td>\n",
       "    </tr>\n",
       "    <tr>\n",
       "      <th>4</th>\n",
       "      <td>5</td>\n",
       "      <td>001.Black_footed_Albatross/Black_Footed_Albatr...</td>\n",
       "      <td>1</td>\n",
       "      <td>0</td>\n",
       "      <td>1</td>\n",
       "      <td>/o/ocean/00003147.jpg</td>\n",
       "    </tr>\n",
       "  </tbody>\n",
       "</table>\n",
       "</div>"
      ],
      "text/plain": [
       "   img_id                                       img_filename  y  split  place  \\\n",
       "0       1  001.Black_footed_Albatross/Black_Footed_Albatr...  1      2      1   \n",
       "1       2  001.Black_footed_Albatross/Black_Footed_Albatr...  1      0      1   \n",
       "2       3  001.Black_footed_Albatross/Black_Footed_Albatr...  1      2      0   \n",
       "3       4  001.Black_footed_Albatross/Black_Footed_Albatr...  1      0      1   \n",
       "4       5  001.Black_footed_Albatross/Black_Footed_Albatr...  1      0      1   \n",
       "\n",
       "                  place_filename  \n",
       "0          /o/ocean/00002178.jpg  \n",
       "1   /l/lake/natural/00000065.jpg  \n",
       "2  /b/bamboo_forest/00000131.jpg  \n",
       "3          /o/ocean/00001268.jpg  \n",
       "4          /o/ocean/00003147.jpg  "
      ]
     },
     "execution_count": 4,
     "metadata": {},
     "output_type": "execute_result"
    }
   ],
   "source": [
    "import pandas as pd\n",
    "\n",
    "\n",
    "metadata_df = pd.read_csv(\n",
    "            os.path.join('/media/SSD2/Dataset/waterbirds_v1.0', 'metadata.csv'))\n",
    "metadata_df.head()"
   ]
  },
  {
   "cell_type": "code",
   "execution_count": 4,
   "metadata": {},
   "outputs": [
    {
     "data": {
      "text/plain": [
       "{' b bamboo_forest', ' f forest broadleaf', ' l lake natural', ' o ocean'}"
      ]
     },
     "execution_count": 4,
     "metadata": {},
     "output_type": "execute_result"
    }
   ],
   "source": [
    "set([\" \".join(i.split(\"/\")[:-1]) for i in metadata_df[\"place_filename\"]])"
   ]
  },
  {
   "cell_type": "code",
   "execution_count": 5,
   "metadata": {},
   "outputs": [
    {
     "data": {
      "text/plain": [
       "(4795, 1199, 5794)"
      ]
     },
     "execution_count": 5,
     "metadata": {},
     "output_type": "execute_result"
    }
   ],
   "source": [
    "list(metadata_df[\"split\"]).count(0),list(metadata_df[\"split\"]).count(1),list(metadata_df[\"split\"]).count(2)"
   ]
  },
  {
   "cell_type": "code",
   "execution_count": 16,
   "metadata": {},
   "outputs": [
    {
     "data": {
      "text/plain": [
       "3498"
      ]
     },
     "execution_count": 16,
     "metadata": {},
     "output_type": "execute_result"
    }
   ],
   "source": [
    "filtered_df = metadata_df[metadata_df[\"split\"] == 0]\n",
    "len(list(filtered_df[(filtered_df[\"y\"] == 0) & (filtered_df[\"place\"] == 0)][\"img_id\"])),len(list(filtered_df[(filtered_df[\"y\"] == 1) & (filtered_df[\"place\"] == 0)][\"img_id\"])),len(list(filtered_df[(filtered_df[\"y\"] == 0) & (filtered_df[\"place\"] == 1)][\"img_id\"])),len(list(filtered_df[(filtered_df[\"y\"] == 1) & (filtered_df[\"place\"] == 1)][\"img_id\"]))"
   ]
  },
  {
   "cell_type": "code",
   "execution_count": 17,
   "metadata": {},
   "outputs": [
    {
     "data": {
      "text/plain": [
       "(56, 184, 1057)"
      ]
     },
     "execution_count": 17,
     "metadata": {},
     "output_type": "execute_result"
    }
   ],
   "source": [
    "len(list(filtered_df[(filtered_df[\"y\"] == 1) & (filtered_df[\"place\"] == 0)][\"img_id\"])),len(list(filtered_df[(filtered_df[\"y\"] == 0) & (filtered_df[\"place\"] == 1)][\"img_id\"])),len(list(filtered_df[(filtered_df[\"y\"] == 1) & (filtered_df[\"place\"] == 1)][\"img_id\"]))"
   ]
  },
  {
   "cell_type": "code",
   "execution_count": 5,
   "metadata": {},
   "outputs": [],
   "source": [
    "new_df = pd.DataFrame(columns=metadata_df.columns)\n"
   ]
  },
  {
   "cell_type": "code",
   "execution_count": 6,
   "metadata": {},
   "outputs": [
    {
     "data": {
      "text/html": [
       "<div>\n",
       "<style scoped>\n",
       "    .dataframe tbody tr th:only-of-type {\n",
       "        vertical-align: middle;\n",
       "    }\n",
       "\n",
       "    .dataframe tbody tr th {\n",
       "        vertical-align: top;\n",
       "    }\n",
       "\n",
       "    .dataframe thead th {\n",
       "        text-align: right;\n",
       "    }\n",
       "</style>\n",
       "<table border=\"1\" class=\"dataframe\">\n",
       "  <thead>\n",
       "    <tr style=\"text-align: right;\">\n",
       "      <th></th>\n",
       "      <th>img_id</th>\n",
       "      <th>img_filename</th>\n",
       "      <th>y</th>\n",
       "      <th>split</th>\n",
       "      <th>place</th>\n",
       "      <th>place_filename</th>\n",
       "    </tr>\n",
       "  </thead>\n",
       "  <tbody>\n",
       "    <tr>\n",
       "      <th>0</th>\n",
       "      <td>11132</td>\n",
       "      <td>190.Red_cockaded_Woodpecker/Red_Cockaded_Woodp...</td>\n",
       "      <td>0</td>\n",
       "      <td>0</td>\n",
       "      <td>0</td>\n",
       "      <td>/b/bamboo_forest/00002811.jpg</td>\n",
       "    </tr>\n",
       "    <tr>\n",
       "      <th>1</th>\n",
       "      <td>9612</td>\n",
       "      <td>164.Cerulean_Warbler/Cerulean_Warbler_0045_797...</td>\n",
       "      <td>0</td>\n",
       "      <td>0</td>\n",
       "      <td>0</td>\n",
       "      <td>/f/forest/broadleaf/00004521.jpg</td>\n",
       "    </tr>\n",
       "    <tr>\n",
       "      <th>2</th>\n",
       "      <td>11363</td>\n",
       "      <td>193.Bewick_Wren/Bewick_Wren_0124_184771.jpg</td>\n",
       "      <td>0</td>\n",
       "      <td>0</td>\n",
       "      <td>0</td>\n",
       "      <td>/f/forest/broadleaf/00001156.jpg</td>\n",
       "    </tr>\n",
       "    <tr>\n",
       "      <th>3</th>\n",
       "      <td>10598</td>\n",
       "      <td>180.Wilson_Warbler/Wilson_Warbler_0050_175573.jpg</td>\n",
       "      <td>0</td>\n",
       "      <td>1</td>\n",
       "      <td>1</td>\n",
       "      <td>/l/lake/natural/00004877.jpg</td>\n",
       "    </tr>\n",
       "    <tr>\n",
       "      <th>4</th>\n",
       "      <td>9185</td>\n",
       "      <td>157.Yellow_throated_Vireo/Yellow_Throated_Vire...</td>\n",
       "      <td>0</td>\n",
       "      <td>0</td>\n",
       "      <td>0</td>\n",
       "      <td>/f/forest/broadleaf/00000067.jpg</td>\n",
       "    </tr>\n",
       "  </tbody>\n",
       "</table>\n",
       "</div>"
      ],
      "text/plain": [
       "   img_id                                       img_filename  y  split  place  \\\n",
       "0   11132  190.Red_cockaded_Woodpecker/Red_Cockaded_Woodp...  0      0      0   \n",
       "1    9612  164.Cerulean_Warbler/Cerulean_Warbler_0045_797...  0      0      0   \n",
       "2   11363        193.Bewick_Wren/Bewick_Wren_0124_184771.jpg  0      0      0   \n",
       "3   10598  180.Wilson_Warbler/Wilson_Warbler_0050_175573.jpg  0      1      1   \n",
       "4    9185  157.Yellow_throated_Vireo/Yellow_Throated_Vire...  0      0      0   \n",
       "\n",
       "                     place_filename  \n",
       "0     /b/bamboo_forest/00002811.jpg  \n",
       "1  /f/forest/broadleaf/00004521.jpg  \n",
       "2  /f/forest/broadleaf/00001156.jpg  \n",
       "3      /l/lake/natural/00004877.jpg  \n",
       "4  /f/forest/broadleaf/00000067.jpg  "
      ]
     },
     "execution_count": 6,
     "metadata": {},
     "output_type": "execute_result"
    }
   ],
   "source": [
    "vf = metadata_df.sample(frac=1).reset_index(drop=True)\n",
    "vf.head()"
   ]
  },
  {
   "cell_type": "code",
   "execution_count": 7,
   "metadata": {},
   "outputs": [
    {
     "data": {
      "text/plain": [
       "11788"
      ]
     },
     "execution_count": 7,
     "metadata": {},
     "output_type": "execute_result"
    }
   ],
   "source": [
    "vf[\"img_id\"].max()"
   ]
  },
  {
   "cell_type": "code",
   "execution_count": 8,
   "metadata": {},
   "outputs": [],
   "source": [
    "def generate_image(file,y):\n",
    "    bird_img = cv2.imread(os.path.join('/media/SSD2/Dataset/waterbirds_v1.0',file))\n",
    "    mask = cv2.imread(os.path.join('/media/SSD2/Dataset/waterbird_segmentation_mask/segmentations',file[:-4]+'.png'), cv2.IMREAD_GRAYSCALE)\n",
    "    \n",
    "    if y == 0:\n",
    "        bg_file = np.random.choice(water_backgrounds)\n",
    "    else:\n",
    "        bg_file = np.random.choice(land_backgrounds)  # Randomly select a background\n",
    "    \n",
    "    \n",
    "\n",
    "    background = cv2.imread(bg_file)\n",
    "    background = cv2.resize(background, (bird_img.shape[1], bird_img.shape[0]))\n",
    "\n",
    "    _, binary_mask = cv2.threshold(mask, 128, 255, cv2.THRESH_BINARY)\n",
    "\n",
    "    # Extract bird part from the bird image\n",
    "    bird_segment = cv2.bitwise_and(bird_img, bird_img, mask=binary_mask)\n",
    "\n",
    "    # Invert mask for the background\n",
    "    inverse_mask = cv2.bitwise_not(binary_mask)\n",
    "\n",
    "    # Apply inverted mask to the background\n",
    "    background_segment = cv2.bitwise_and(background, background, mask=inverse_mask)\n",
    "\n",
    "    # Combine bird segment and background segment\n",
    "    final_image = cv2.add(bird_segment, background_segment)\n",
    "    return final_image, bg_file"
   ]
  },
  {
   "cell_type": "code",
   "execution_count": 9,
   "metadata": {},
   "outputs": [],
   "source": [
    "def save_image_with_folders(file_path, image):\n",
    "    \"\"\"\n",
    "    Saves an image to the specified file path, creating any missing directories in the path.\n",
    "\n",
    "    Args:\n",
    "        file_path (str): The full path (including filename) where the image should be saved.\n",
    "        image (numpy.ndarray): The image to save (OpenCV format).\n",
    "    \"\"\"\n",
    "    # Extract the directory path from the file path\n",
    "    directory = os.path.dirname(file_path)\n",
    "    \n",
    "    # Create the directory if it doesn't exist\n",
    "    if not os.path.exists(directory):\n",
    "        os.makedirs(directory)\n",
    "    \n",
    "    # Save the image to the file path\n",
    "    cv2.imwrite(file_path, image)\n",
    "   "
   ]
  },
  {
   "cell_type": "code",
   "execution_count": 10,
   "metadata": {},
   "outputs": [],
   "source": [
    "import shutil\n",
    "def copy_paste(source,dest):\n",
    "    # Extract the directory path from the file path\n",
    "    directory = os.path.dirname(dest)\n",
    "    \n",
    "    # Create the directory if it doesn't exist\n",
    "    if not os.path.exists(directory):\n",
    "        os.makedirs(directory)\n",
    "    shutil.copy(source,dest)"
   ]
  },
  {
   "cell_type": "code",
   "execution_count": 11,
   "metadata": {},
   "outputs": [],
   "source": [
    "def new_entry(id,img_file,y,split,place,place_filename):\n",
    "    global new_df\n",
    "    new_entry = {\n",
    "    \"img_id\": id,\n",
    "    \"img_filename\": img_file,\n",
    "    \"y\": y,\n",
    "    \"split\": split,\n",
    "    \"place\": place,\n",
    "    \"place_filename\": place_filename,\n",
    "    }\n",
    "    new_df.loc[len(new_df)] = new_entry\n"
   ]
  },
  {
   "cell_type": "code",
   "execution_count": 12,
   "metadata": {},
   "outputs": [
    {
     "name": "stdout",
     "output_type": "stream",
     "text": [
      "Land Birds: 21 57 Water Birds: 15 15\n",
      "Land Birds: 67 159 Water Birds: 46 44\n",
      "Land Birds: 111 270 Water Birds: 80 74\n",
      "Land Birds: 131 322 Water Birds: 95 89\n",
      "Land Birds: 163 374 Water Birds: 108 102\n",
      "Land Birds: 190 440 Water Birds: 114 108\n",
      "Land Birds: 207 489 Water Birds: 134 126\n",
      "Land Birds: 229 535 Water Birds: 153 145\n",
      "Land Birds: 248 575 Water Birds: 176 164\n",
      "Land Birds: 294 676 Water Birds: 210 196\n",
      "Land Birds: 319 729 Water Birds: 234 216\n",
      "Land Birds: 346 788 Water Birds: 245 227\n",
      "Land Birds: 394 897 Water Birds: 276 254\n",
      "Land Birds: 411 938 Water Birds: 299 275\n",
      "Land Birds: 435 989 Water Birds: 310 284\n",
      "Land Birds: 455 1032 Water Birds: 335 305\n",
      "Land Birds: 482 1096 Water Birds: 348 318\n",
      "Land Birds: 507 1145 Water Birds: 362 330\n",
      "Land Birds: 529 1197 Water Birds: 378 346\n",
      "Land Birds: 547 1239 Water Birds: 401 365\n",
      "Land Birds: 571 1294 Water Birds: 412 376\n",
      "Land Birds: 589 1340 Water Birds: 427 389\n",
      "Land Birds: 619 1341 Water Birds: 449 405\n",
      "Land Birds: 649 1341 Water Birds: 472 426\n",
      "Land Birds: 649 1341 Water Birds: 472 426\n",
      "Land Birds: 675 1341 Water Birds: 493 445\n",
      "Land Birds: 707 1341 Water Birds: 514 462\n",
      "Land Birds: 740 1341 Water Birds: 529 477\n",
      "Land Birds: 771 1341 Water Birds: 550 496\n",
      "Land Birds: 799 1341 Water Birds: 571 517\n",
      "Land Birds: 835 1341 Water Birds: 596 540\n",
      "Land Birds: 873 1341 Water Birds: 619 561\n",
      "Land Birds: 937 1341 Water Birds: 655 595\n",
      "Land Birds: 968 1341 Water Birds: 678 616\n",
      "Land Birds: 1003 1341 Water Birds: 707 641\n",
      "Land Birds: 1003 1341 Water Birds: 707 641\n",
      "Land Birds: 1027 1341 Water Birds: 725 657\n",
      "Land Birds: 1061 1341 Water Birds: 742 672\n",
      "Land Birds: 1061 1341 Water Birds: 742 672\n",
      "Land Birds: 1122 1341 Water Birds: 780 708\n",
      "Land Birds: 1148 1341 Water Birds: 811 737\n",
      "Land Birds: 1180 1341 Water Birds: 836 762\n",
      "Land Birds: 1215 1341 Water Birds: 854 776\n",
      "Land Birds: 1253 1341 Water Birds: 875 795\n",
      "Land Birds: 1253 1341 Water Birds: 875 795\n",
      "Land Birds: 1282 1341 Water Birds: 894 814\n",
      "Land Birds: 1310 1341 Water Birds: 913 833\n",
      "Land Birds: 1341 1341 Water Birds: 931 845\n",
      "Land Birds: 1341 1341 Water Birds: 957 869\n",
      "Land Birds: 1341 1341 Water Birds: 982 894\n",
      "Land Birds: 1341 1341 Water Birds: 1003 915\n",
      "Land Birds: 1341 1341 Water Birds: 1003 915\n",
      "Land Birds: 1341 1341 Water Birds: 1029 937\n",
      "Land Birds: 1341 1341 Water Birds: 1057 963\n",
      "Land Birds: 1341 1341 Water Birds: 1057 986\n",
      "Land Birds: 1341 1341 Water Birds: 1057 986\n",
      "Land Birds: 1341 1341 Water Birds: 1057 1014\n",
      "Land Birds: 1341 1341 Water Birds: 1057 1014\n",
      "Land Birds: 1341 1341 Water Birds: 1057 1037\n"
     ]
    }
   ],
   "source": [
    "from matplotlib import pyplot as plt\n",
    "\n",
    "final = '/media/SSD2/Dataset/waterbirds_robust.3'\n",
    "final_2 = '/media/SSD2/Dataset/waterbirds_robust.4'\n",
    "\n",
    "land_b_l,land_b_w, water_b_l, water_b_w, idx = 0,0,0,0,0\n",
    "for file, y, split, place, place_file in zip(vf[\"img_filename\"],vf[\"y\"],vf[\"split\"],vf[\"place\"],vf[\"place_filename\"]):\n",
    "    \n",
    "    if split == 0 and y==0:\n",
    "\n",
    "        if place == 0 and random.random() > 0.5 and land_b_l < 1341:\n",
    "            land_b_l += 1\n",
    "            source = os.path.join('/media/SSD2/Dataset/waterbirds_v1.0',file)\n",
    "            dest = os.path.join(final,file)\n",
    "            copy_paste(source,dest)\n",
    "            new_entry(idx,file,y,split,place,place_file)\n",
    "            idx += 1\n",
    "        elif place == 1 :\n",
    "            if land_b_w < 1341:\n",
    "                land_b_w += 1\n",
    "                source = os.path.join('/media/SSD2/Dataset/waterbirds_v1.0',file)\n",
    "                dest = os.path.join(final,file)\n",
    "                place = 1\n",
    "                copy_paste(source,dest)\n",
    "                new_entry(idx,file,y,split,place,place_file)\n",
    "                idx += 1\n",
    "\n",
    "        if land_b_w < 1341:\n",
    "            land_b_w += 1\n",
    "            place = 1\n",
    "            img, bg_file = generate_image(file,y)\n",
    "            new_path = os.path.join(final,file.split('/')[-2],'n_'+file.split('/')[-1])\n",
    "            n_place_file = os.path.join(bg_file.split('/')[-2],bg_file.split('/')[-1])\n",
    "            save_image_with_folders(new_path,img)\n",
    "            save_image_with_folders(os.path.join(final_2,file.split('/')[-1]),img)\n",
    "            new_entry(idx,os.path.join(file.split('/')[-2],'n_'+file.split('/')[-1]),y,split,place,n_place_file)\n",
    "            idx += 1\n",
    "    \n",
    "    elif split == 0 and y==1:\n",
    "\n",
    "        if place == 1 and water_b_w < 1057:\n",
    "            water_b_w += 1\n",
    "            source = os.path.join('/media/SSD2/Dataset/waterbirds_v1.0',file)\n",
    "            dest = os.path.join(final,file)\n",
    "            copy_paste(source,dest)\n",
    "            new_entry(idx,file,y,split,place,place_file)\n",
    "            idx += 1\n",
    "        else:\n",
    "            if water_b_l < 1057:\n",
    "                water_b_l += 1\n",
    "                place = 0\n",
    "                source = os.path.join('/media/SSD2/Dataset/waterbirds_v1.0',file)\n",
    "                dest = os.path.join(final,file)\n",
    "                copy_paste(source,dest)\n",
    "                new_entry(idx,file,y,split,place,place_file)\n",
    "                idx += 1\n",
    "\n",
    "        if water_b_l < 1057:\n",
    "            water_b_l += 1\n",
    "            place = 0\n",
    "            img, bg_file = generate_image(file,y)\n",
    "            new_path = os.path.join(final,file.split('/')[-2],'n_'+file.split('/')[-1])\n",
    "            n_place_file = os.path.join(bg_file.split('/')[-2],bg_file.split('/')[-1])\n",
    "            save_image_with_folders(new_path,img)\n",
    "            save_image_with_folders(os.path.join(final_2,file.split('/')[-1]),img)\n",
    "            new_entry(idx,os.path.join(file.split('/')[-2],'n_'+file.split('/')[-1]),y,split,place,n_place_file)\n",
    "            idx += 1\n",
    "\n",
    "    elif split != 0:\n",
    "        source = os.path.join('/media/SSD2/Dataset/waterbirds_v1.0',file)\n",
    "        dest = os.path.join(final,file)\n",
    "        copy_paste(source,dest)\n",
    "        new_entry(idx,file,y,split,place,place_file)\n",
    "        idx += 1\n",
    "\n",
    "    else:\n",
    "        print(\"Error\")\n",
    "        break\n",
    "    \n",
    "    if idx % 200 == 0:\n",
    "        print(f\"Land Birds: {land_b_l} {land_b_w} Water Birds: {water_b_l} {water_b_w}\")\n",
    "    \n",
    "\n",
    "\n",
    "\n",
    "    \n",
    "        \n"
   ]
  },
  {
   "cell_type": "code",
   "execution_count": 13,
   "metadata": {},
   "outputs": [
    {
     "data": {
      "text/plain": [
       "11788"
      ]
     },
     "execution_count": 13,
     "metadata": {},
     "output_type": "execute_result"
    }
   ],
   "source": [
    "new_df[\"img_id\"].max()"
   ]
  },
  {
   "cell_type": "code",
   "execution_count": 14,
   "metadata": {},
   "outputs": [
    {
     "data": {
      "text/plain": [
       "(1341, 1057, 1341, 1057)"
      ]
     },
     "execution_count": 14,
     "metadata": {},
     "output_type": "execute_result"
    }
   ],
   "source": [
    "filtered_df = new_df[new_df[\"split\"] == 0]\n",
    "len(list(filtered_df[(filtered_df[\"y\"] == 0) & (filtered_df[\"place\"] == 0)][\"img_id\"])),len(list(filtered_df[(filtered_df[\"y\"] == 1) & (filtered_df[\"place\"] == 0)][\"img_id\"])),len(list(filtered_df[(filtered_df[\"y\"] == 0) & (filtered_df[\"place\"] == 1)][\"img_id\"])),len(list(filtered_df[(filtered_df[\"y\"] == 1) & (filtered_df[\"place\"] == 1)][\"img_id\"]))"
   ]
  },
  {
   "cell_type": "code",
   "execution_count": 15,
   "metadata": {},
   "outputs": [
    {
     "data": {
      "text/html": [
       "<div>\n",
       "<style scoped>\n",
       "    .dataframe tbody tr th:only-of-type {\n",
       "        vertical-align: middle;\n",
       "    }\n",
       "\n",
       "    .dataframe tbody tr th {\n",
       "        vertical-align: top;\n",
       "    }\n",
       "\n",
       "    .dataframe thead th {\n",
       "        text-align: right;\n",
       "    }\n",
       "</style>\n",
       "<table border=\"1\" class=\"dataframe\">\n",
       "  <thead>\n",
       "    <tr style=\"text-align: right;\">\n",
       "      <th></th>\n",
       "      <th>img_id</th>\n",
       "      <th>img_filename</th>\n",
       "      <th>y</th>\n",
       "      <th>split</th>\n",
       "      <th>place</th>\n",
       "      <th>place_filename</th>\n",
       "    </tr>\n",
       "  </thead>\n",
       "  <tbody>\n",
       "    <tr>\n",
       "      <th>0</th>\n",
       "      <td>0</td>\n",
       "      <td>190.Red_cockaded_Woodpecker/Red_Cockaded_Woodp...</td>\n",
       "      <td>0</td>\n",
       "      <td>0</td>\n",
       "      <td>0</td>\n",
       "      <td>/b/bamboo_forest/00002811.jpg</td>\n",
       "    </tr>\n",
       "    <tr>\n",
       "      <th>1</th>\n",
       "      <td>1</td>\n",
       "      <td>190.Red_cockaded_Woodpecker/n_Red_Cockaded_Woo...</td>\n",
       "      <td>0</td>\n",
       "      <td>0</td>\n",
       "      <td>1</td>\n",
       "      <td>lake-natural/Places365_val_00015415.jpg</td>\n",
       "    </tr>\n",
       "    <tr>\n",
       "      <th>2</th>\n",
       "      <td>2</td>\n",
       "      <td>164.Cerulean_Warbler/n_Cerulean_Warbler_0045_7...</td>\n",
       "      <td>0</td>\n",
       "      <td>0</td>\n",
       "      <td>1</td>\n",
       "      <td>lake-natural/Places365_val_00033412.jpg</td>\n",
       "    </tr>\n",
       "    <tr>\n",
       "      <th>3</th>\n",
       "      <td>3</td>\n",
       "      <td>193.Bewick_Wren/Bewick_Wren_0124_184771.jpg</td>\n",
       "      <td>0</td>\n",
       "      <td>0</td>\n",
       "      <td>0</td>\n",
       "      <td>/f/forest/broadleaf/00001156.jpg</td>\n",
       "    </tr>\n",
       "    <tr>\n",
       "      <th>4</th>\n",
       "      <td>4</td>\n",
       "      <td>193.Bewick_Wren/n_Bewick_Wren_0124_184771.jpg</td>\n",
       "      <td>0</td>\n",
       "      <td>0</td>\n",
       "      <td>1</td>\n",
       "      <td>lake-natural/Places365_val_00003818.jpg</td>\n",
       "    </tr>\n",
       "  </tbody>\n",
       "</table>\n",
       "</div>"
      ],
      "text/plain": [
       "  img_id                                       img_filename  y split place  \\\n",
       "0      0  190.Red_cockaded_Woodpecker/Red_Cockaded_Woodp...  0     0     0   \n",
       "1      1  190.Red_cockaded_Woodpecker/n_Red_Cockaded_Woo...  0     0     1   \n",
       "2      2  164.Cerulean_Warbler/n_Cerulean_Warbler_0045_7...  0     0     1   \n",
       "3      3        193.Bewick_Wren/Bewick_Wren_0124_184771.jpg  0     0     0   \n",
       "4      4      193.Bewick_Wren/n_Bewick_Wren_0124_184771.jpg  0     0     1   \n",
       "\n",
       "                            place_filename  \n",
       "0            /b/bamboo_forest/00002811.jpg  \n",
       "1  lake-natural/Places365_val_00015415.jpg  \n",
       "2  lake-natural/Places365_val_00033412.jpg  \n",
       "3         /f/forest/broadleaf/00001156.jpg  \n",
       "4  lake-natural/Places365_val_00003818.jpg  "
      ]
     },
     "execution_count": 15,
     "metadata": {},
     "output_type": "execute_result"
    }
   ],
   "source": [
    "new_df.head()"
   ]
  },
  {
   "cell_type": "code",
   "execution_count": 17,
   "metadata": {},
   "outputs": [],
   "source": [
    "new_df.to_csv('/media/SSD2/Dataset/waterbirds_robust.3/metadata.csv',index=False)"
   ]
  },
  {
   "cell_type": "code",
   "execution_count": 18,
   "metadata": {},
   "outputs": [],
   "source": [
    "from waterbirds_robust_dataset_similar import WaterbirdsRobustSimilarDataset\n",
    "import torchvision.transforms as transforms\n",
    "model_transforms = transforms.Compose([\n",
    "            transforms.Resize(224),\n",
    "            transforms.CenterCrop(224),\n",
    "            transforms.Lambda(lambda image: image.convert('RGB')),\n",
    "            transforms.ToTensor(),\n",
    "            transforms.Normalize(mean=[0.485, 0.456, 0.406],\n",
    "                                 std=[0.229, 0.224, 0.225])\n",
    "        ])\n",
    "full_dataset = WaterbirdsRobustSimilarDataset(root_dir='/media/SSD2/Dataset',split_scheme='official')"
   ]
  },
  {
   "cell_type": "code",
   "execution_count": 19,
   "metadata": {},
   "outputs": [
    {
     "ename": "NameError",
     "evalue": "name 'CombinatorialGrouper' is not defined",
     "output_type": "error",
     "traceback": [
      "\u001b[0;31m---------------------------------------------------------------------------\u001b[0m",
      "\u001b[0;31mNameError\u001b[0m                                 Traceback (most recent call last)",
      "\u001b[0;32m<ipython-input-19-7df1bcf6ecc4>\u001b[0m in \u001b[0;36m<module>\u001b[0;34m\u001b[0m\n\u001b[0;32m----> 1\u001b[0;31m train_grouper = CombinatorialGrouper(\n\u001b[0m\u001b[1;32m      2\u001b[0m         \u001b[0mdataset\u001b[0m\u001b[0;34m=\u001b[0m\u001b[0mfull_dataset\u001b[0m\u001b[0;34m,\u001b[0m\u001b[0;34m\u001b[0m\u001b[0;34m\u001b[0m\u001b[0m\n\u001b[1;32m      3\u001b[0m         \u001b[0mgroupby_fields\u001b[0m\u001b[0;34m=\u001b[0m\u001b[0;34m[\u001b[0m\u001b[0;34m'generic-spurious'\u001b[0m\u001b[0;34m,\u001b[0m \u001b[0;34m'y'\u001b[0m\u001b[0;34m]\u001b[0m\u001b[0;34m\u001b[0m\u001b[0;34m\u001b[0m\u001b[0m\n\u001b[1;32m      4\u001b[0m     )\n\u001b[1;32m      5\u001b[0m \u001b[0;34m\u001b[0m\u001b[0m\n",
      "\u001b[0;31mNameError\u001b[0m: name 'CombinatorialGrouper' is not defined"
     ]
    }
   ],
   "source": [
    "train_grouper = CombinatorialGrouper(\n",
    "        dataset=full_dataset,\n",
    "        groupby_fields=['generic-spurious', 'y']\n",
    "    )\n",
    "\n",
    "data = full_dataset.get_subset('test',frac=1.0,transform=model_transforms)\n",
    "loader = get_train_loader(loader='standard', \n",
    "                          dataset=data, \n",
    "                          batch_size=10,\n",
    "                          uniform_over_groups=True, \n",
    "                          grouper=train_grouper,\n",
    "                          n_groups_per_batch=4)\n",
    "\n",
    "print(len(data[0]))"
   ]
  }
 ],
 "metadata": {
  "kernelspec": {
   "display_name": "CLIP_2",
   "language": "python",
   "name": "python3"
  },
  "language_info": {
   "codemirror_mode": {
    "name": "ipython",
    "version": 3
   },
   "file_extension": ".py",
   "mimetype": "text/x-python",
   "name": "python",
   "nbconvert_exporter": "python",
   "pygments_lexer": "ipython3",
   "version": "3.8.8"
  }
 },
 "nbformat": 4,
 "nbformat_minor": 2
}
