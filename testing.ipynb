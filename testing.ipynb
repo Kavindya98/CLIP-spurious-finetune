{
 "cells": [
  {
   "cell_type": "code",
   "execution_count": 1,
   "metadata": {},
   "outputs": [],
   "source": [
    "from wilds.common.data_loaders import get_eval_loader, get_train_loader\n",
    "from wilds.common.grouper import CombinatorialGrouper\n",
    "from models.initializer import get_dataset\n",
    "import torchvision.transforms as transforms"
   ]
  },
  {
   "cell_type": "code",
   "execution_count": 19,
   "metadata": {},
   "outputs": [
    {
     "name": "stdout",
     "output_type": "stream",
     "text": [
      "tensor([0.0016, 0.0016, 0.0016,  ..., 0.0004, 0.0004, 0.0004])\n",
      "Using WeightedRandomSampler with 5794 groups\n",
      "3\n",
      "torch.Size([10, 3, 224, 224])\n",
      "tensor([1, 0, 1, 1, 1, 1, 0, 0, 0, 1])\n",
      "tensor([[1, 1, 0],\n",
      "        [1, 0, 0],\n",
      "        [0, 1, 0],\n",
      "        [1, 1, 0],\n",
      "        [0, 1, 0],\n",
      "        [1, 1, 0],\n",
      "        [1, 0, 0],\n",
      "        [1, 0, 0],\n",
      "        [0, 0, 0],\n",
      "        [1, 1, 0]])\n",
      "\n"
     ]
    }
   ],
   "source": [
    "model_transforms = transforms.Compose([\n",
    "            transforms.Resize(224),\n",
    "            transforms.CenterCrop(224),\n",
    "            transforms.Lambda(lambda image: image.convert('RGB')),\n",
    "            transforms.ToTensor(),\n",
    "            transforms.Normalize(mean=[0.485, 0.456, 0.406],\n",
    "                                 std=[0.229, 0.224, 0.225])\n",
    "        ])\n",
    "\n",
    "full_dataset = get_dataset(dataset='waterbirds',\n",
    "                           root_dir='/media/SSD2/Dataset',\n",
    "                           download=True,\n",
    "                           split_scheme='official',\n",
    "                           seed=11111111)\n",
    "\n",
    "train_grouper = CombinatorialGrouper(\n",
    "        dataset=full_dataset,\n",
    "        groupby_fields=['generic-spurious', 'y']\n",
    "    )\n",
    "\n",
    "data = full_dataset.get_subset('test',frac=1.0,transform=model_transforms)\n",
    "loader = get_train_loader(loader='standard', \n",
    "                          dataset=data, \n",
    "                          batch_size=10,\n",
    "                          uniform_over_groups=True, \n",
    "                          grouper=train_grouper,\n",
    "                          n_groups_per_batch=4)\n",
    "\n",
    "print(len(data[0]))\n",
    "                        \n",
    "for batch in loader:\n",
    "    print(batch[0].shape)\n",
    "    print(batch[1]) \n",
    "    print(batch[2])\n",
    "    print() \n",
    "    break                  "
   ]
  },
  {
   "cell_type": "code",
   "execution_count": 9,
   "metadata": {},
   "outputs": [
    {
     "data": {
      "text/plain": [
       "tensor([[1, 1, 0],\n",
       "        [1, 1, 1],\n",
       "        [0, 1, 0],\n",
       "        ...,\n",
       "        [0, 0, 0],\n",
       "        [0, 0, 1],\n",
       "        [1, 0, 0]])"
      ]
     },
     "execution_count": 9,
     "metadata": {},
     "output_type": "execute_result"
    }
   ],
   "source": [
    "full_dataset.metadata_array"
   ]
  },
  {
   "cell_type": "code",
   "execution_count": 8,
   "metadata": {},
   "outputs": [
    {
     "name": "stdout",
     "output_type": "stream",
     "text": [
      "3\n",
      "torch.Size([10, 3, 224, 224])\n",
      "tensor([0, 0, 0, 0, 0, 0, 0, 0, 0, 0])\n",
      "tensor([[1, 0, 1],\n",
      "        [0, 0, 1],\n",
      "        [0, 0, 1],\n",
      "        [0, 0, 1],\n",
      "        [0, 0, 1],\n",
      "        [0, 0, 1],\n",
      "        [0, 0, 1],\n",
      "        [0, 0, 1],\n",
      "        [0, 0, 1],\n",
      "        [0, 0, 1]])\n"
     ]
    }
   ],
   "source": [
    "loader = get_train_loader(loader='standard', \n",
    "                          dataset=data, \n",
    "                          batch_size=10,\n",
    "                          uniform_over_groups=False, \n",
    "                          grouper=train_grouper,\n",
    "                          n_groups_per_batch=4)\n",
    "\n",
    "print(len(data[0]))\n",
    "                        \n",
    "for batch in loader:\n",
    "    print(batch[0].shape)\n",
    "    print(batch[1]) \n",
    "    print(batch[2])\n",
    "    break      "
   ]
  },
  {
   "cell_type": "code",
   "execution_count": 14,
   "metadata": {},
   "outputs": [
    {
     "name": "stdout",
     "output_type": "stream",
     "text": [
      "tensor([3, 3, 3,  ..., 0, 0, 1])\n",
      "4\n"
     ]
    }
   ],
   "source": [
    "groups, group_counts = train_grouper.metadata_to_group(\n",
    "                data.metadata_array,\n",
    "                return_counts=True)\n",
    "print(groups[:-10])\n",
    "print(len(group_counts))"
   ]
  },
  {
   "cell_type": "code",
   "execution_count": 16,
   "metadata": {},
   "outputs": [
    {
     "data": {
      "text/plain": [
       "tensor([0.0009, 0.0009, 0.0009,  ..., 0.0003, 0.0003, 0.0003])"
      ]
     },
     "execution_count": 16,
     "metadata": {},
     "output_type": "execute_result"
    }
   ],
   "source": [
    "group_weights = 1 / group_counts\n",
    "weights = group_weights[groups]\n",
    "weights"
   ]
  },
  {
   "cell_type": "code",
   "execution_count": 17,
   "metadata": {},
   "outputs": [
    {
     "data": {
      "text/plain": [
       "(4795, 4795)"
      ]
     },
     "execution_count": 17,
     "metadata": {},
     "output_type": "execute_result"
    }
   ],
   "source": [
    "len(groups),len(weights)"
   ]
  }
 ],
 "metadata": {
  "kernelspec": {
   "display_name": "CLIP_2",
   "language": "python",
   "name": "python3"
  },
  "language_info": {
   "codemirror_mode": {
    "name": "ipython",
    "version": 3
   },
   "file_extension": ".py",
   "mimetype": "text/x-python",
   "name": "python",
   "nbconvert_exporter": "python",
   "pygments_lexer": "ipython3",
   "version": "3.8.8"
  }
 },
 "nbformat": 4,
 "nbformat_minor": 2
}
